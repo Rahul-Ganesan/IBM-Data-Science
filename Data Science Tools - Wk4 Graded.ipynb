{
 "cells": [
  {
   "attachments": {},
   "cell_type": "markdown",
   "metadata": {},
   "source": [
    "# Ex.ipynb\n"
   ]
  },
  {
   "attachments": {},
   "cell_type": "markdown",
   "metadata": {},
   "source": [
    "## Introduction\n",
    "\n",
    "Hi, this is the introduction section.\n"
   ]
  },
  {
   "attachments": {},
   "cell_type": "markdown",
   "metadata": {},
   "source": [
    "## Data Science Languages\n",
    "\n",
    "- Python\n",
    "- R\n",
    "- SQL\n",
    "- SAS\n",
    "- Julia\n",
    "- MATLAB\n",
    "- Scala\n",
    "- Java\n",
    "- C++\n",
    "- Perl\n"
   ]
  },
  {
   "attachments": {},
   "cell_type": "markdown",
   "metadata": {},
   "source": [
    "## Data Science Libraries\n",
    "\n",
    "- NumPy\n",
    "- Pandas\n",
    "- Matplotlib\n",
    "- Scikit-learn\n",
    "- TensorFlow\n",
    "- PyTorch\n",
    "- Keras\n",
    "- Seaborn\n",
    "- Plotly\n",
    "- NLTK\n",
    "- BeautifulSoup\n",
    "- Gensim\n",
    "- SpaCy\n"
   ]
  },
  {
   "attachments": {},
   "cell_type": "markdown",
   "metadata": {},
   "source": [
    "## Data Science Tools\n",
    "\n",
    "| Tool | Description |\n",
    "| --- | --- |\n",
    "| Jupyter Notebook | An interactive coding environment for data analysis and visualization |\n",
    "| Anaconda | A distribution of Python and data science packages, including Jupyter Notebook |\n",
    "| Tableau | A data visualization tool for exploring and presenting data |\n",
    "| Apache Spark | A distributed computing framework for big data processing |\n",
    "| Hadoop | A distributed storage and processing system for big data |\n",
    "| Git | A version control system for tracking and managing changes to code |\n",
    "| Docker | A containerization platform for packaging and deploying applications |\n"
   ]
  },
  {
   "attachments": {},
   "cell_type": "markdown",
   "metadata": {},
   "source": [
    "## Arithmetic Expression Examples\n",
    "\n",
    "In this section, we will explore some examples of arithmetic expressions, which involve performing mathematical operations such as addition, subtraction, multiplication, and division on numerical values. These expressions are an important part of many data science tasks, such as calculating summary statistics, creating visualizations, and building machine learning models.\n",
    "\n",
    "The sum of 5 and 7 is `5 + 7 = 12`.\n",
    "\n"
   ]
  },
  {
   "cell_type": "code",
   "execution_count": 1,
   "metadata": {},
   "outputs": [
    {
     "name": "stdout",
     "output_type": "stream",
     "text": [
      "17\n"
     ]
    }
   ],
   "source": [
    "# Multiplying and adding numbers\n",
    "x = 5\n",
    "y = 3\n",
    "z = x * y + 2\n",
    "print(z)\n"
   ]
  },
  {
   "cell_type": "code",
   "execution_count": 2,
   "metadata": {},
   "outputs": [
    {
     "name": "stdout",
     "output_type": "stream",
     "text": [
      "2.5\n"
     ]
    }
   ],
   "source": [
    "# Converting minutes to hours\n",
    "minutes = 150\n",
    "hours = minutes / 60\n",
    "print(hours)\n"
   ]
  },
  {
   "attachments": {},
   "cell_type": "markdown",
   "metadata": {},
   "source": [
    "## Objectives\n",
    "\n",
    "In this notebook, we will cover the following objectives:\n",
    "\n",
    "- Introduction to arithmetic expressions\n",
    "- Understanding mathematical operators in Python\n",
    "- Performing arithmetic operations using variables\n",
    "- Converting units of measurement\n",
    "- Applying arithmetic expressions to data science problems\n"
   ]
  },
  {
   "attachments": {},
   "cell_type": "markdown",
   "metadata": {},
   "source": [
    "## Author\n",
    "\n",
    "This notebook was created by Rahul Ganesan.\n"
   ]
  }
 ],
 "metadata": {
  "kernelspec": {
   "display_name": "Python 3",
   "language": "python",
   "name": "python3"
  },
  "language_info": {
   "codemirror_mode": {
    "name": "ipython",
    "version": 3
   },
   "file_extension": ".py",
   "mimetype": "text/x-python",
   "name": "python",
   "nbconvert_exporter": "python",
   "pygments_lexer": "ipython3",
   "version": "3.10.10"
  },
  "orig_nbformat": 4
 },
 "nbformat": 4,
 "nbformat_minor": 2
}
